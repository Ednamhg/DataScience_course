{
 "cells": [
  {
   "cell_type": "markdown",
   "id": "63532af8-4e68-4aa3-b39a-d987eab8232a",
   "metadata": {},
   "source": [
    "# Data Science Tools and Ecosystem"
   ]
  },
  {
   "cell_type": "markdown",
   "id": "6aabbf26-874c-4046-abbe-8aef83d1489e",
   "metadata": {},
   "source": [
    "In this notebook, Data Science Tools and Ecosystem are summarized."
   ]
  },
  {
   "cell_type": "markdown",
   "id": "a117a8e9-a51d-45ec-83c5-3e5aebe35f33",
   "metadata": {},
   "source": [
    "**Objectives:**\n",
    "- Popular languages in Data Science\n",
    "- Common used libraries used in Data Science\n",
    "- Some tools used in Data Sciencie\n",
    "- Simple arithmetic expresions"
   ]
  },
  {
   "cell_type": "markdown",
   "id": "7fe3771f-3094-45a7-b6d6-10d19601202a",
   "metadata": {},
   "source": [
    "Some of the popular languages that Data Scientists use are:\n",
    "1. Python\n",
    "2. R\n",
    "3. Apache Spark\n",
    "4. Scala\n",
    "5. SQL"
   ]
  },
  {
   "cell_type": "markdown",
   "id": "bde0a42c-43c1-4fe1-a8b4-7d310f2c51f0",
   "metadata": {},
   "source": [
    "Some of the commonly used libraries used by Data Scientists include:\n",
    "\n",
    "**In Python**\n",
    "1. Pandas\n",
    "2. Numpy\n",
    "3. Matplotlib\n",
    "4. Seaborn\n",
    "5. Scikit-learn\n",
    "6. Keras\n",
    "7. Tensorflow\n",
    "8. Pytorch\n",
    "\n",
    "**In R**\n",
    "1. Dplyr\n",
    "2. Stringr\n",
    "3. Ggplot2\n",
    "4. Plotly\n",
    "5. Lattice\n",
    "6. Leaflet\n",
    "7. Caret\n",
    "\n",
    "**In Scala**\n",
    "1. Vegas\n",
    "2. Digdl\n"
   ]
  },
  {
   "cell_type": "markdown",
   "id": "41fe8b3c-bbe6-4a79-b9e3-89f8a307daa6",
   "metadata": {},
   "source": [
    "| Data Science Tools|\n",
    "|-------------------|\n",
    "|MySQL|\n",
    "|MongoDF|\n",
    "|Apache Cassandra|\n",
    "|Hadoop File System|\n",
    "|Ceph|\n",
    "|Kibana|\n",
    "|Seldon|\n",
    "|Prometheus|\n",
    "|GitHub|\n",
    "|Spider|\n",
    "|Apache Spark|"
   ]
  },
  {
   "cell_type": "markdown",
   "id": "193526ea-194a-423b-b336-a4cedd442d34",
   "metadata": {},
   "source": [
    "### Below are a few examples of evaluating arithmetic expressions in Python."
   ]
  },
  {
   "cell_type": "markdown",
   "id": "0fe15c13-18a4-47c4-a75b-611b13861cc2",
   "metadata": {},
   "source": [
    "This a simple arithmetic expression to mutiply then add integers"
   ]
  },
  {
   "cell_type": "code",
   "execution_count": 2,
   "id": "cfc42522-3ba1-487c-b65c-8214c3a4681f",
   "metadata": {},
   "outputs": [
    {
     "data": {
      "text/plain": [
       "17"
      ]
     },
     "execution_count": 2,
     "metadata": {},
     "output_type": "execute_result"
    }
   ],
   "source": [
    "(3*4)+5"
   ]
  },
  {
   "cell_type": "markdown",
   "id": "e857e3cb-85fd-4b38-aab8-4f83104ebfb9",
   "metadata": {},
   "source": [
    "This will convert 200 minutes to hours by dividing by 60."
   ]
  },
  {
   "cell_type": "code",
   "execution_count": 3,
   "id": "bb740b53-ce61-4f5d-a43b-276f89448eda",
   "metadata": {},
   "outputs": [
    {
     "data": {
      "text/plain": [
       "3.3333333333333335"
      ]
     },
     "execution_count": 3,
     "metadata": {},
     "output_type": "execute_result"
    }
   ],
   "source": [
    "200/60"
   ]
  },
  {
   "cell_type": "markdown",
   "id": "f6c84e25-5e42-43b5-ae9e-29c465c4a578",
   "metadata": {},
   "source": [
    "## Author\n",
    "Edna M. Hernández González"
   ]
  },
  {
   "cell_type": "code",
   "execution_count": null,
   "id": "0f52a837-4418-42a5-ba4f-39204408f914",
   "metadata": {},
   "outputs": [],
   "source": []
  }
 ],
 "metadata": {
  "kernelspec": {
   "display_name": "Python 3 (ipykernel)",
   "language": "python",
   "name": "python3"
  },
  "language_info": {
   "codemirror_mode": {
    "name": "ipython",
    "version": 3
   },
   "file_extension": ".py",
   "mimetype": "text/x-python",
   "name": "python",
   "nbconvert_exporter": "python",
   "pygments_lexer": "ipython3",
   "version": "3.12.9"
  }
 },
 "nbformat": 4,
 "nbformat_minor": 5
}
